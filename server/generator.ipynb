{
 "cells": [
  {
   "cell_type": "code",
   "execution_count": 2,
   "metadata": {},
   "outputs": [
    {
     "name": "stdout",
     "output_type": "stream",
     "text": [
      "<class 'pandas.core.frame.DataFrame'>\n",
      "RangeIndex: 200000 entries, 0 to 199999\n",
      "Data columns (total 3 columns):\n",
      " #   Column                   Non-Null Count   Dtype \n",
      "---  ------                   --------------   ----- \n",
      " 0   video_url_youtube        200000 non-null  object\n",
      " 1   track_id_spotify         200000 non-null  object\n",
      " 2   audio_embedding_spotify  200000 non-null  object\n",
      "dtypes: object(3)\n",
      "memory usage: 4.6+ MB\n",
      "None\n"
     ]
    }
   ],
   "source": [
    "import pandas as pd \n",
    "from pymilvus import connections, FieldSchema, CollectionSchema, DataType, Collection, utility\n",
    "from datasets import load_dataset_builder, load_dataset, Dataset\n",
    "from transformers import AutoTokenizer, AutoModel\n",
    "from torch import clamp, sum\n",
    "\n",
    "DATASET = 'DISCOX/DISCO-200K-high-quality'  # Huggingface Dataset to use\n",
    "MODEL = 'laion/larger_clap_music_and_speech'  # Transformer to use for embeddings\n",
    "TOKENIZATION_BATCH_SIZE = 1000  # Batch size for tokenizing operation\n",
    "INFERENCE_BATCH_SIZE = 64  # batch size for transformer\n",
    "INSERT_RATIO = 0.0001  # How many titles to embed and insert\n",
    "COLLECTION_NAME = 'DISCO'  # Collection name\n",
    "DIMENSION = 512  # Embeddings size\n",
    "LIMIT = 10  # How many results to search for\n",
    "MILVUS_HOST = \"milvus-standalone\"\n",
    "MILVUS_PORT = \"19530\"\n",
    "\n",
    "\n",
    "dset = load_dataset(DATASET)\n",
    "df = pd.DataFrame(dset[\"train\"])\n",
    "df = df[['video_url_youtube', 'track_id_spotify', 'audio_embedding_spotify']]\n",
    "\n",
    "\n",
    "print(df.info())\n",
    "#df.to_csv('disco.csv', index=False)\n",
    "\n",
    "\n"
   ]
  },
  {
   "cell_type": "code",
   "execution_count": 6,
   "metadata": {},
   "outputs": [
    {
     "name": "stdout",
     "output_type": "stream",
     "text": [
      "<class 'pandas.core.frame.DataFrame'>\n",
      "RangeIndex: 100000 entries, 0 to 199998\n",
      "Data columns (total 3 columns):\n",
      " #   Column                   Non-Null Count   Dtype \n",
      "---  ------                   --------------   ----- \n",
      " 0   video_url_youtube        100000 non-null  object\n",
      " 1   track_id_spotify         100000 non-null  object\n",
      " 2   audio_embedding_spotify  100000 non-null  object\n",
      "dtypes: object(3)\n",
      "memory usage: 2.3+ MB\n"
     ]
    }
   ],
   "source": [
    "new_df = df[::2]\n",
    "new_df.info()"
   ]
  },
  {
   "cell_type": "code",
   "execution_count": null,
   "metadata": {},
   "outputs": [],
   "source": [
    "from datasets import load_dataset\n",
    "ds = load_dataset(\"DISCOX/DISCO-10M\", \"en\", num_proc=8)"
   ]
  },
  {
   "cell_type": "code",
   "execution_count": 11,
   "metadata": {},
   "outputs": [
    {
     "name": "stdout",
     "output_type": "stream",
     "text": [
      "JSON data saved to DISCO.json\n"
     ]
    }
   ],
   "source": [
    "import json\n",
    "#json_data = new_df.to_json(orient='records')\n",
    "file_path = 'DISCO.json'\n",
    "\n",
    "json_data = {\n",
    "    \"rows\": new_df.to_dict(orient=\"records\")\n",
    "}\n",
    "\n",
    "# Save the JSON data to a file\n",
    "with open('formatted_data.json', 'w') as json_file:\n",
    "    json.dump(json_data, json_file, indent=2)\n",
    "\n",
    "\n",
    "print(f'JSON data saved to {file_path}')"
   ]
  }
 ],
 "metadata": {
  "kernelspec": {
   "display_name": "Python 3",
   "language": "python",
   "name": "python3"
  },
  "language_info": {
   "codemirror_mode": {
    "name": "ipython",
    "version": 3
   },
   "file_extension": ".py",
   "mimetype": "text/x-python",
   "name": "python",
   "nbconvert_exporter": "python",
   "pygments_lexer": "ipython3",
   "version": "3.10.4"
  }
 },
 "nbformat": 4,
 "nbformat_minor": 2
}
